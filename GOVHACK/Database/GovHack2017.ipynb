{
 "cells": [
  {
   "cell_type": "code",
   "execution_count": 22,
   "metadata": {
    "collapsed": true
   },
   "outputs": [],
   "source": [
    "import pandas as pd\n",
    "x = pd.read_csv(\"trains.csv\")\n",
    "from copy import copy\n",
    "import warnings\n",
    "warnings.filterwarnings(\"ignore\")"
   ]
  },
  {
   "cell_type": "code",
   "execution_count": 2,
   "metadata": {
    "collapsed": true
   },
   "outputs": [],
   "source": [
    "def find(data, col, how, what):\n",
    "    if how == \"==\": return data.iloc[(data[col]==what).index[data[col]==what]]\n",
    "    elif how == \">\": return data.iloc[(data[col]>what).index[data[col]==what]]\n",
    "    elif how == \">=\": return data.iloc[(data[col]>what).index[data[col]==what]]\n",
    "    elif how == \"<\": return data.iloc[(data[col]<what).index[data[col]==what]]\n",
    "    elif how == \"<=\": return data.iloc[(data[col]<=what).index[data[col]==what]]\n",
    "\n",
    "def diff(want, rem):\n",
    "    w = copy(want)\n",
    "    for j in w:\n",
    "        if j in rem: w.remove(j)\n",
    "    for j in rem:\n",
    "        if j in w: w.remove(j)\n",
    "    return w\n",
    "\n",
    "def exc(x, l):\n",
    "    if type(l) == str: l = [l]\n",
    "    return x[diff(x.columns.tolist(),l)]"
   ]
  },
  {
   "cell_type": "code",
   "execution_count": 3,
   "metadata": {
    "collapsed": true
   },
   "outputs": [],
   "source": [
    "y = copy(x)\n",
    "y[\"Occupancy Status\"] = y[\"Occupancy Status\"].astype(\"category\")\n",
    "y[\"Occupancy Status\"] = y[\"Occupancy Status\"].replace({'STANDING_ROOM_ONLY':3,\n",
    "                                                       'FEW_SEATS_AVAILABLE':2,\n",
    "                                                      'MANY_SEATS_AVAILABLE':1})\n",
    "\n",
    "y[\"Actual.Station.Dprt.Time\"] = y[\"Actual.Station.Dprt.Time\"].astype(\"datetime64[ns]\")\n",
    "y[\"Actual.Station.Arrv.Time\"] = y[\"Actual.Station.Arrv.Time\"].astype(\"datetime64[ns]\")\n",
    "\n",
    "y[\"Start_Time\"] = y[\"Actual.Station.Arrv.Time\"].dt.hour\n",
    "y[\"Start_Minutes\"] = y[\"Actual.Station.Arrv.Time\"].dt.minute\n",
    "\n",
    "y[\"Hour\"] = (y[\"Actual.Station.Arrv.Time\"].dt.minute>=30)*1 + y[\"Actual.Station.Arrv.Time\"].dt.hour\n",
    "\n",
    "train = y.groupby(by = [\"day\",\"Hour\",\"Actual.Stop.Station\"]).agg({'Occupancy Status':'max','Start_Time':'mean',\\\n",
    "                                                                 'Start_Minutes':'mean'}).reset_index()\n",
    "train[\"Actual.Stop.Station\"] = train[\"Actual.Stop.Station\"].str.lower()\n",
    "train[\"suburb\"] = train[\"Actual.Stop.Station\"]"
   ]
  },
  {
   "cell_type": "code",
   "execution_count": 4,
   "metadata": {
    "collapsed": true
   },
   "outputs": [],
   "source": [
    "postcodes = pd.read_csv(\"postcodes.csv\")\n",
    "postcodes[\"suburb\"] = postcodes[\"suburb\"].str.lower()\n",
    "postcodes = postcodes.iloc[(postcodes[\"state\"]=='NSW').index[(postcodes[\"state\"]=='NSW')]]\n",
    "postcodes = postcodes[[\"postcode\",\"suburb\",\"lat\",\"lon\"]]"
   ]
  },
  {
   "cell_type": "code",
   "execution_count": 5,
   "metadata": {},
   "outputs": [],
   "source": [
    "data = train.merge(postcodes, left_on = \"suburb\", right_on = \"suburb\", how = \"left\")\n",
    "data.columns = [\"day\",\"hour\",\"train_stop\",\"train_crowding\",\"time\",\"journey_time\",\"suburb\",\"postcode\",\"lat\",\"long\"]\n",
    "data = exc(data, [\"suburb\",\"seq\",\"hour\"])"
   ]
  },
  {
   "cell_type": "code",
   "execution_count": 6,
   "metadata": {
    "collapsed": true
   },
   "outputs": [],
   "source": [
    "bus = pd.read_csv(\"bus_capacity_clean.csv\")\n",
    "bus[\"capacity\"] = bus[\"capacity\"].replace({'STANDING_ROOM_ONLY':3,\n",
    "                                                       'FEW_SEATS_AVAILABLE':2,\n",
    "                                                      'MANY_SEATS_AVAILABLE':1})\n",
    "bus[\"suburb\"] = bus[\"suburb\"].str.lower()\n",
    "bus = exc(bus, \"Unnamed: 0\")\n",
    "bus.columns = [\"time\",\"bus_stop\",\"lat\",\"long\",\"bus_crowding\",\"day\"]"
   ]
  },
  {
   "cell_type": "code",
   "execution_count": 23,
   "metadata": {},
   "outputs": [],
   "source": [
    "longs = {\"wynyard\":151.205547, \"central\":151.206667, \"town hall\":151.204758, \"circular quay\":151.212056, \"martin place\": 151.210358,\n",
    "        \"museum\":151.20963}\n",
    "lats = {\"wynyard\":-33.865868, \"central\":-33.8825, \"town hall\":33.873682, \"circular quay\":-33.860705, \"martin place\":-33.867733,\n",
    "       \"museum\":-33.87575}\n",
    "\n",
    "data[\"change\"] = data[\"train_stop\"]\n",
    "\n",
    "for j in longs.keys():\n",
    "    tochange = find(data, \"train_stop\", \"==\", j)\n",
    "    tochange[\"lat\"] = tochange[\"lat\"].fillna(lats[j])\n",
    "    tochange[\"long\"] = tochange[\"long\"].fillna(longs[j])\n",
    "    tochange[\"postcode\"] = tochange[\"postcode\"].fillna(2000)\n",
    "    tochange[\"change\"] = \"sydney\"\n",
    "    data.iloc[tochange.index] = tochange"
   ]
  },
  {
   "cell_type": "code",
   "execution_count": 8,
   "metadata": {
    "collapsed": true
   },
   "outputs": [],
   "source": [
    "data[\"time\"] = data[\"time\"].astype('float')\n",
    "data[\"time\"] = round(data[\"time\"])\n",
    "data[\"time\"] = data[\"time\"].astype('int')"
   ]
  },
  {
   "cell_type": "code",
   "execution_count": 9,
   "metadata": {},
   "outputs": [],
   "source": [
    "cleaned = data.merge(bus, left_on = [\"day\",\"time\",\"change\"], right_on = [\"day\",\"time\",\"bus_stop\"])\\\n",
    "            .groupby(by = [\"day\",\"time\",\"train_stop\"]).agg({'train_crowding':'max','journey_time':'mean',\n",
    "                                                           'postcode':'max','lat_x':'median',\n",
    "                                                            'long_x':'median',\n",
    "                                                           'bus_crowding':'max'}).reset_index()\n",
    "cleaned = cleaned.dropna(subset=[\"postcode\"])\n",
    "cleaned.columns = ['day', 'time', 'train_stop', 'train_crowding', 'journey_time','postcode', 'lat', 'long', 'bus_crowding']\n",
    "cleaned[\"postcode\"] = cleaned[\"postcode\"].astype(int)"
   ]
  },
  {
   "cell_type": "code",
   "execution_count": 10,
   "metadata": {},
   "outputs": [],
   "source": [
    "ato = pd.read_excel(\"ato.xlsx\",sheetname = \"Data\")\n",
    "ato = ato[[\"Postcode\",\"Individuals1\",\"Net capital gain\",\"Total income or loss\",\"0-4 years\",\"5-9 years\",\n",
    "\"10-14 years\",\"15-19 years\",\"20-24 years\",\"25-29 years\",\"30-34 years\",\"35-39 years\",\"40-44 years\",\"45-49 years\",\"50-54 years\",\"55-59 years\",\"60-64 years\",\n",
    "\"65-69 years\",\"70-74 years\",\"75-79 years\",\"80-84 years\",\"85-89 years\",\"90-94 years\",\"95-99 years\",\"100 years and over\",\"Oceanian\",\"North-West European\",\n",
    "\"Southern and Eastern European\",\"North African and Middle Eastern\",\"South-East Asian\",\"North-East Asian\",\"Southern and Central Asian\",\n",
    "\"People of the Americas\",\"Sub-Saharan African\",\"Male\",\"Female\",\"under or 0\",\"$1 to 1000\",\"1000-1999\",\"2000+\",\"Married in a registered marriage\",\n",
    "\"Married in a de facto marriage\",\"Not married\"]]\n",
    "newcols = [\"postcode\",\"population\",\"capital_gain\",\"total_income\",\"0-4_years\",\"5-9_years\",\n",
    "\"10-14_years\",\"15-19_years\",\"20-24_years\",\"25-29_years\",\"30-34_years\",\"35-39_years\",\"40-44_years\",\"45-49_years\",\"50-54_years\",\"55-59_years\",\"60-64_years\",\n",
    "\"65-69_years\",\"70-74_years\",\"75-79_years\",\"80-84_years\",\"85-89_years\",\"90-94_years\",\"95-99_years\",\"100_years+\",\"Oceanian\",\"North-West_European\",\n",
    "\"Southern_Eastern_European\",\"North_African_Middle_Eastern\",\"South-East_Asian\",\"North-East_Asian\",\"Southern_Central_Asian\",\n",
    "\"Americas\",\"Sub-Saharan_African\",\"m\",\"f\",\"$<=0\",\"$1-1000\",\"$1000-1999\",\"$2000+\",\"Married\",\n",
    "\"defacto\",\"single\"]\n",
    "newcols = [x.lower() for x in newcols]\n",
    "ato.columns = newcols"
   ]
  },
  {
   "cell_type": "code",
   "execution_count": 11,
   "metadata": {
    "collapsed": true
   },
   "outputs": [],
   "source": [
    "aggs = {'train_crowding':'max','journey_time':'mean','lat':'median','long':'median','bus_crowding':'max'}\n",
    "for k in newcols: aggs[k]='max'"
   ]
  },
  {
   "cell_type": "code",
   "execution_count": 12,
   "metadata": {},
   "outputs": [],
   "source": [
    "cleaned = cleaned.merge(ato, on=\"postcode\").groupby(by=[\"day\",\"time\",\"train_stop\"]).agg(aggs).reset_index()"
   ]
  },
  {
   "cell_type": "code",
   "execution_count": 13,
   "metadata": {},
   "outputs": [],
   "source": [
    "aq = pd.read_csv(\"aq.csv\", delimiter =\";\")\n",
    "aq = aq.iloc[1:]\n",
    "aq.columns = (aq.T.reset_index()[1]).tolist()\n",
    "aq = aq.iloc[1:].reset_index()\n",
    "aq[\"Date\"]=aq[\"Date\"].str.split(\"/\").str[0].str.lstrip(\"0\")\n",
    "aq[\"Time\"]=(aq[\"Time\"].str.split(\":\").str[0].str.lstrip(\"0\")).astype(\"int\")-1\n",
    "\n",
    "aq.columns=pd.Series(aq.columns.tolist()).str.rstrip(\"AQI hourly AQI [index]\").str.lower().tolist()\n",
    "\n",
    "aqcols = ['', 'dat', 'tim', 'randwick', 'rozelle', 'lindfield', 'liverpool',\n",
    "       'bringelly', 'chullor', 'earlwood', 'wyong', 'wallsend', 'carrington',\n",
    "       'stockton', 'newcastle', 'mayfield', 'beresfield', 'tamworth',\n",
    "       'wollongong', 'kembla grange', 'richmond', 'bargo', 'albury',\n",
    "       'wagga wagga', 'st marys', 'vineyard', 'bathurst', 'macarthur',\n",
    "       'oakdale', 'albion park', 'prospect', 'muswellbrook', 'singleton',\n",
    "       'maison dieu', 'camberwell', 'singleton', 'mount thorley', 'bulg',\n",
    "       'wagga wagga', 'muswellbrook', 'wybong', 'aberdeen',\n",
    "       'singleton', 'jerrys plains', 'warkworth', 'merriw',\n",
    "       'campbelltown', 'camden']\n",
    "aq.columns = aqcols\n",
    "aq = aq.melt(id_vars=['dat','tim'])\n",
    "aq.columns = [\"day\",\"time\",\"suburb\",\"AQI\"]\n",
    "aq = aq.iloc[(aq[\"suburb\"]!=\"\").index[aq[\"suburb\"]!=\"\"]].reset_index()\n",
    "aq = aq[[\"day\",\"time\",\"suburb\",\"AQI\"]]\n",
    "aqposts = pd.DataFrame(aqcols).merge(postcodes, left_on=[0], right_on=[\"suburb\"]).groupby(by=\"suburb\").agg({'postcode':'max'}).reset_index()"
   ]
  },
  {
   "cell_type": "code",
   "execution_count": 14,
   "metadata": {},
   "outputs": [],
   "source": [
    "sorts = aqposts.sort_values(by=\"postcode\").reset_index()\n",
    "df = {}\n",
    "for j in range(sorts.shape[0]):\n",
    "    if j == 0:\n",
    "        for increments in range(sorts.iloc[j][\"postcode\"]):\n",
    "            df[sorts.iloc[j][\"postcode\"]-increments] = sorts.iloc[j][\"suburb\"]\n",
    "    elif j+1 < sorts.shape[0]:\n",
    "        for increments in range(sorts.iloc[j+1][\"postcode\"]-sorts.iloc[j][\"postcode\"]):\n",
    "            df[increments+sorts.iloc[j][\"postcode\"]] = sorts.iloc[j][\"suburb\"]\n",
    "    else:\n",
    "        for increments in range(2787-sorts.iloc[j][\"postcode\"]):\n",
    "            df[sorts.iloc[j][\"postcode\"]+increments] = sorts.iloc[j][\"suburb\"]\n",
    "            \n",
    "filled = pd.DataFrame.from_dict(df,orient='index').reset_index()\n",
    "filled.columns = [\"postcode\",\"suburb\"]\n",
    "\n",
    "aq=aq.reset_index()\n",
    "aq=aq.iloc[(aq[\"AQI\"]!='--').index[aq[\"AQI\"]!='--'].tolist()]\n",
    "aq = exc(aq, \"index\")\n",
    "\n",
    "aq = aq.dropna(subset=[\"AQI\"])\n",
    "aq[\"AQI\"] = aq[\"AQI\"].astype(\"int\")\n",
    "aq_all = filled.merge(aq, on=\"suburb\",how=\"left\").groupby(by=[\"day\",\"time\",\"postcode\"]).agg({\"AQI\":'max'})"
   ]
  },
  {
   "cell_type": "code",
   "execution_count": 17,
   "metadata": {},
   "outputs": [],
   "source": [
    "aq_all=aq_all.reset_index()\n",
    "aq_all[\"day\"]=aq_all[\"day\"].astype(int)"
   ]
  },
  {
   "cell_type": "code",
   "execution_count": 18,
   "metadata": {},
   "outputs": [],
   "source": [
    "cleaned = cleaned.merge(aq_all, on = [\"day\",\"time\",\"postcode\"], how = \"left\")\n",
    "cleaned = exc(cleaned, \"index\")"
   ]
  },
  {
   "cell_type": "code",
   "execution_count": 20,
   "metadata": {},
   "outputs": [],
   "source": [
    "cleaned.to_csv(\"data.csv\")"
   ]
  }
 ],
 "metadata": {
  "kernelspec": {
   "display_name": "Python 3",
   "language": "python",
   "name": "python3"
  },
  "language_info": {
   "codemirror_mode": {
    "name": "ipython",
    "version": 3
   },
   "file_extension": ".py",
   "mimetype": "text/x-python",
   "name": "python",
   "nbconvert_exporter": "python",
   "pygments_lexer": "ipython3",
   "version": "3.6.1"
  }
 },
 "nbformat": 4,
 "nbformat_minor": 2
}
